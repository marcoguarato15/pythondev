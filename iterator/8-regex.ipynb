{
 "cells": [
  {
   "cell_type": "code",
   "execution_count": 1,
   "id": "5db0600f",
   "metadata": {},
   "outputs": [],
   "source": [
    "import re"
   ]
  },
  {
   "cell_type": "code",
   "execution_count": 35,
   "id": "b13f7023",
   "metadata": {},
   "outputs": [],
   "source": [
    "def explorar_expressao_regurar(texto):\n",
    "    ## Achando o conteúdo que se encaixa no padrão \n",
    "    padrao = r'\\bPython\\b' # Procura pela palavra Python (Case sensitive)\n",
    "    if re.search(padrao, texto):\n",
    "        print(\"O padrão r'\\\\bPython\\\\b' foi encontrado.\")\n",
    "    else:\n",
    "        print(\"O padrap r'\\\\bPython\\\\b' não foi encontrado\")\n",
    "\n",
    "    # Formatação simples de email\n",
    "    padrao_email = r'[a-zA-Z0-9._%+-]+@[a-zA-Z0-9.-]+\\.[a-zA-Z]{2,}'    # letras de a-z A-Z e números 0-9 e símbolos _%+-, @ obrigatório,\n",
    "                                                                        # de novo a-z A-Z e números 0-9 e símbolo -, . obrigatório\n",
    "                                                                        # letras a-z A-Z com no mínimo dois caracteres\n",
    "    emails = re.findall(padrao_email, texto)\n",
    "    print(f\"E-mail(s) encontrado(s): {emails}\")\n",
    "\n",
    "    # Substituição de uma palavra\n",
    "    padrao_substuicao = r'Python'\n",
    "    result = re.sub(padrao_substuicao, 'Javascript', texto)\n",
    "    print(result)\n",
    "\n",
    "    ''' \n",
    "    ## Separar tudo por um espaço utilizando o padrão \\\\s+ (pega qualquer espaço em branco -> \n",
    "    Espaço ( ) \n",
    "    Tabulação (\\\\t)\n",
    "    Quebra de linha (\\\\n)\n",
    "    Retorno de carro (\\\\r)\n",
    "    Alimentação de formulário (\\\\f)\n",
    "    Tabulação vertical (\\\\v) )\n",
    "    '''\n",
    "\n",
    "    padrao_em_branco = r\"\\s+\"  # todos os espaços em branco mesmo subsequentes(+ após o \\s) OBS: neste exemplo ele pegou o enter como ''\n",
    "    texto_divido = re.split(padrao_em_branco, texto)\n",
    "    print(texto_divido)\n",
    "\n",
    "    # Pegar todas as palavras com o oposto dos espaços em branco\n",
    "    padrao_palavras = r\"\\S+\"\n",
    "    palavras_texto = re.findall(padrao_palavras, texto)\n",
    "    print(palavras_texto)\n"
   ]
  },
  {
   "cell_type": "code",
   "execution_count": 36,
   "id": "b6d4e90a",
   "metadata": {},
   "outputs": [
    {
     "name": "stdout",
     "output_type": "stream",
     "text": [
      "O padrão r'\\bPython\\b' foi encontrado.\n",
      "E-mail(s) encontrado(s): ['teste@email.com']\n",
      "\n",
      "Olá eu sou um desenvolvedor Javascript.\n",
      "Você pode me contatar em meu e-mail: teste@email.com\n",
      "Javascript é uma linguagem de programação popular.\n",
      "ruby@email.a\n",
      "\n",
      "['', 'Olá', 'eu', 'sou', 'um', 'desenvolvedor', 'Python.', 'Você', 'pode', 'me', 'contatar', 'em', 'meu', 'e-mail:', 'teste@email.com', 'Python', 'é', 'uma', 'linguagem', 'de', 'programação', 'popular.', 'ruby@email.a', '']\n",
      "['Olá', 'eu', 'sou', 'um', 'desenvolvedor', 'Python.', 'Você', 'pode', 'me', 'contatar', 'em', 'meu', 'e-mail:', 'teste@email.com', 'Python', 'é', 'uma', 'linguagem', 'de', 'programação', 'popular.', 'ruby@email.a']\n"
     ]
    }
   ],
   "source": [
    "texto_exemplo = \"\"\"\n",
    "Olá eu sou um desenvolvedor Python.\n",
    "Você pode me contatar em meu e-mail: teste@email.com\n",
    "Python é uma linguagem de programação popular.\n",
    "ruby@email.a\n",
    "\"\"\"\n",
    "\n",
    "explorar_expressao_regurar(texto_exemplo)"
   ]
  }
 ],
 "metadata": {
  "kernelspec": {
   "display_name": "Python 3",
   "language": "python",
   "name": "python3"
  },
  "language_info": {
   "codemirror_mode": {
    "name": "ipython",
    "version": 3
   },
   "file_extension": ".py",
   "mimetype": "text/x-python",
   "name": "python",
   "nbconvert_exporter": "python",
   "pygments_lexer": "ipython3",
   "version": "3.13.7"
  }
 },
 "nbformat": 4,
 "nbformat_minor": 5
}
