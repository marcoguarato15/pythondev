{
 "cells": [
  {
   "cell_type": "markdown",
   "id": "b68168c3",
   "metadata": {},
   "source": [
    "## Enumerate\n",
    "- Consegue associas o valor a um índice incremental iniciando default em 0 podendo ser trocado\n",
    "- Não segue o indíce passado, mas sim cria um novo índice para cada elemento"
   ]
  },
  {
   "cell_type": "code",
   "execution_count": 2,
   "id": "85d9cbe7",
   "metadata": {},
   "outputs": [
    {
     "name": "stdout",
     "output_type": "stream",
     "text": [
      "0-Maçã\n",
      "1-Banana\n",
      "2-Laranja\n"
     ]
    }
   ],
   "source": [
    "frutas = [\"Maçã\", \"Banana\", \"Laranja\"]\n",
    "\n",
    "for indice, fruta in enumerate(frutas):\n",
    "    print(f\"{indice}-{fruta}\")"
   ]
  },
  {
   "cell_type": "code",
   "execution_count": null,
   "id": "a158f100",
   "metadata": {},
   "outputs": [
    {
     "name": "stdout",
     "output_type": "stream",
     "text": [
      "{0: 10, 1: 15, 2: 20, 3: 25, 4: 30}\n"
     ]
    }
   ],
   "source": [
    "numeros = [10, 15, 20, 25, 30]\n",
    "\n",
    "indices_valores = {indice:valor for indice,valor in enumerate(numeros)}\n",
    "print(indices_valores)"
   ]
  },
  {
   "cell_type": "code",
   "execution_count": 4,
   "id": "21f8e816",
   "metadata": {},
   "outputs": [
    {
     "name": "stdout",
     "output_type": "stream",
     "text": [
      "{0: 10, 2: 20, 4: 30}\n"
     ]
    }
   ],
   "source": [
    "indices_pares = {indice:valor for indice, valor in indices_valores.items() if indice % 2 == 0}\n",
    "print(indices_pares)"
   ]
  }
 ],
 "metadata": {
  "kernelspec": {
   "display_name": "Python 3",
   "language": "python",
   "name": "python3"
  },
  "language_info": {
   "codemirror_mode": {
    "name": "ipython",
    "version": 3
   },
   "file_extension": ".py",
   "mimetype": "text/x-python",
   "name": "python",
   "nbconvert_exporter": "python",
   "pygments_lexer": "ipython3",
   "version": "3.13.7"
  }
 },
 "nbformat": 4,
 "nbformat_minor": 5
}
