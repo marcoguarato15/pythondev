{
 "cells": [
  {
   "cell_type": "code",
   "execution_count": null,
   "id": "315636bb",
   "metadata": {},
   "outputs": [],
   "source": [
    "# 1 - Gerador de expressão\n",
    "quadrados = (x ** 2 for x in range(10))\n",
    "print(type(quadrados))\n",
    "for quadrado in quadrados:\n",
    "    print(quadrado)"
   ]
  },
  {
   "cell_type": "code",
   "execution_count": null,
   "id": "d5273cde",
   "metadata": {},
   "outputs": [],
   "source": [
    "# 2 - Iterador infinito\n",
    "def contador_infinito():\n",
    "    i = 0\n",
    "    while True:\n",
    "        yield i\n",
    "        i += 1\n",
    "\n",
    "contador = contador_infinito()\n",
    "\n",
    "for _ in range(10):\n",
    "    print(next(contador))\n",
    "# não reseta após o uso... ele armazena o estado da variável para uso posterior\n",
    "for _ in range(3):\n",
    "    print(next(contador))"
   ]
  },
  {
   "cell_type": "code",
   "execution_count": null,
   "id": "73892714",
   "metadata": {},
   "outputs": [],
   "source": [
    "# 3 - utilizando o send() para geradores capturarem valores\n",
    "def gerador_soma():\n",
    "    total = 0\n",
    "    while True:\n",
    "        valor = yield total     # Retorna o total (valor inicial 0) e para a execução\n",
    "                                # na próxima execução o valor que é enviado é 10 e se torna o valor, já que há valor ele passa pelo if\n",
    "                                # assim somando os valores, depois começa de novo e retorna a soma realizada (10) e para a execução.....\n",
    "        if valor is not None:   # Verifica se há algum valor enviado pelo send()\n",
    "            total += valor\n",
    "\n",
    "soma = gerador_soma()\n",
    "next(soma) # inicializa o gerador\n",
    "print(soma.send(10))\n",
    "print(soma.send(5))\n",
    "print(soma.send(15))"
   ]
  },
  {
   "cell_type": "code",
   "execution_count": null,
   "id": "095dc261",
   "metadata": {},
   "outputs": [],
   "source": [
    "# 4 - Tratamento de exceções\n",
    "def gerador_excecao():\n",
    "    while True:\n",
    "        try:\n",
    "            while True:\n",
    "                valor = yield\n",
    "                print(f\"Valor recebido: {valor}\")\n",
    "        except ValueError as e:\n",
    "            print(f\"Erro capturado no gerador msg: {e}\")\n",
    "            yield 'tratando o erro...'\n",
    "        except StopProcessing as e:\n",
    "            print(f\"Parando o processamento por ordem externa: {e}\")\n",
    "            break\n",
    "\n",
    "class StopProcessing(Exception):\n",
    "    __notes__ = ['Erro casual']\n",
    "    pass\n",
    "\n",
    "g = gerador_excecao()\n",
    "next(g)   # inicializa o gerador\n",
    "g.send(10)\n",
    "g.send(ValueError)\n",
    "g.throw(ValueError)\n",
    "g.throw(StopProcessing) "
   ]
  },
  {
   "cell_type": "code",
   "execution_count": null,
   "id": "819784f7",
   "metadata": {},
   "outputs": [],
   "source": [
    "# 5 - Cascata de geradores\n",
    "def multiplica_por_dois(iterable):\n",
    "    for i in iterable:\n",
    "        yield i * 2\n",
    "\n",
    "def adiciona_cinco(iterable):\n",
    "    for i in iterable:\n",
    "        yield i + 5\n",
    "\n",
    "numeros = range(5)\n",
    "result = adiciona_cinco(multiplica_por_dois(numeros))\n",
    "for r in result:\n",
    "    print(r)"
   ]
  }
 ],
 "metadata": {
  "kernelspec": {
   "display_name": "Python 3",
   "language": "python",
   "name": "python3"
  },
  "language_info": {
   "codemirror_mode": {
    "name": "ipython",
    "version": 3
   },
   "file_extension": ".py",
   "mimetype": "text/x-python",
   "name": "python",
   "nbconvert_exporter": "python",
   "pygments_lexer": "ipython3",
   "version": "3.13.7"
  }
 },
 "nbformat": 4,
 "nbformat_minor": 5
}
