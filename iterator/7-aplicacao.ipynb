{
 "cells": [
  {
   "cell_type": "code",
   "execution_count": 1,
   "id": "3bc2277b",
   "metadata": {},
   "outputs": [],
   "source": [
    "class VendasIterator:\n",
    "    def __init__(self, arquivo):\n",
    "        self.arquivo = arquivo\n",
    "        self.file = open(arquivo, 'r', encoding='utf-8')\n",
    "\n",
    "    def __iter__(self):\n",
    "        return self\n",
    "    \n",
    "    def __next__(self):\n",
    "        linha = self.file.readline()\n",
    "        if not linha:\n",
    "            self.file.close()\n",
    "            raise StopIteration\n",
    "        categoria, valor = linha.strip().split(',')\n",
    "        return categoria, float(valor)"
   ]
  },
  {
   "cell_type": "code",
   "execution_count": null,
   "id": "3dc72eda",
   "metadata": {},
   "outputs": [],
   "source": [
    "def gerador_soma_total_vendas(arquivo):\n",
    "    total_vendas = 0\n",
    "    for categoria, valor in VendasIterator(arquivo):\n",
    "        total_vendas += valor\n",
    "        yield categoria, float(valor), float(total_vendas)"
   ]
  },
  {
   "cell_type": "code",
   "execution_count": 8,
   "id": "cc3dc18c",
   "metadata": {},
   "outputs": [
    {
     "name": "stdout",
     "output_type": "stream",
     "text": [
      "Processando vendas......\n",
      "Categoria: Eletrônicos, Valor R$300.00, Total Acumulado: R$300.00\n",
      "Eletrônicos\n",
      "{'Eletrônicos': 1}\n",
      "Categoria: Roupas, Valor R$150.00, Total Acumulado: R$450.00\n",
      "Roupas\n",
      "{'Eletrônicos': 1, 'Roupas': 1}\n",
      "Categoria: Eletrônicos, Valor R$450.00, Total Acumulado: R$900.00\n",
      "{'Eletrônicos': 2, 'Roupas': 1}\n",
      "Categoria: Alimentos, Valor R$100.00, Total Acumulado: R$1000.00\n",
      "Alimentos\n",
      "{'Eletrônicos': 2, 'Roupas': 1, 'Alimentos': 1}\n",
      "Categoria: Roupas, Valor R$200.00, Total Acumulado: R$1200.00\n",
      "{'Eletrônicos': 2, 'Roupas': 2, 'Alimentos': 1}\n",
      "Categoria: Eletrônicos, Valor R$250.00, Total Acumulado: R$1450.00\n",
      "{'Eletrônicos': 3, 'Roupas': 2, 'Alimentos': 1}\n",
      "Categoria: Eletrônicos: 3 vendas\n",
      "Categoria: Roupas: 2 vendas\n",
      "Categoria: Alimentos: 1 vendas\n"
     ]
    }
   ],
   "source": [
    "contagem_vendas = {}\n",
    "arquivo = '7_vendas.txt'\n",
    "print(\"Processando vendas......\")\n",
    "for categoria, valor, total in gerador_soma_total_vendas(arquivo):\n",
    "    print(f\"Categoria: {categoria}, Valor R${valor:.2f}, Total Acumulado: R${total:.2f}\")\n",
    "\n",
    "    if categoria not in contagem_vendas:\n",
    "        print(categoria)\n",
    "        contagem_vendas[categoria] = 0\n",
    "    contagem_vendas[categoria] += 1\n",
    "    print(contagem_vendas)\n",
    "\n",
    "for categoria, contagem in contagem_vendas.items():\n",
    "    print(f\"Categoria: {categoria}: {contagem} vendas\")\n"
   ]
  }
 ],
 "metadata": {
  "kernelspec": {
   "display_name": "Python 3",
   "language": "python",
   "name": "python3"
  },
  "language_info": {
   "codemirror_mode": {
    "name": "ipython",
    "version": 3
   },
   "file_extension": ".py",
   "mimetype": "text/x-python",
   "name": "python",
   "nbconvert_exporter": "python",
   "pygments_lexer": "ipython3",
   "version": "3.13.7"
  }
 },
 "nbformat": 4,
 "nbformat_minor": 5
}
