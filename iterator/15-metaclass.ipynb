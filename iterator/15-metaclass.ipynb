{
 "cells": [
  {
   "cell_type": "markdown",
   "id": "4e60c815",
   "metadata": {},
   "source": [
    "## Metaclass\n",
    "- Cria classe de forma dinâmica\n",
    "- Pode ser útil na criação de frameworks onde as classes precisam ter um comportamento específico"
   ]
  },
  {
   "cell_type": "code",
   "execution_count": null,
   "id": "55b65868",
   "metadata": {},
   "outputs": [],
   "source": [
    "## Ele herda de type que cria todas as classes\n",
    "## O método __new__ é como se fosse o __init__ para classes\n",
    "## O return ele retorna para o type terminar de criar a classe\n",
    "class MeuMeta(type):\n",
    "    def __new__(cls, nome, bases, dct):\n",
    "        dct['novo_atributo'] = \"Valor adicionado pela metaclasse\"\n",
    "        return super().__new__(cls, nome, bases, dct)"
   ]
  },
  {
   "cell_type": "code",
   "execution_count": null,
   "id": "7ce00c1c",
   "metadata": {},
   "outputs": [],
   "source": [
    "## Necessário colocar 'metaclass=' para funcionar\n",
    "class MinhaClasse(metaclass=MeuMeta):\n",
    "    pass"
   ]
  },
  {
   "cell_type": "code",
   "execution_count": 5,
   "id": "dad41f7e",
   "metadata": {},
   "outputs": [
    {
     "data": {
      "text/plain": [
       "'Valor adicionado pela metaclasse'"
      ]
     },
     "execution_count": 5,
     "metadata": {},
     "output_type": "execute_result"
    }
   ],
   "source": [
    "obj = MinhaClasse()\n",
    "obj.novo_atributo"
   ]
  },
  {
   "cell_type": "code",
   "execution_count": 32,
   "id": "3182c605",
   "metadata": {},
   "outputs": [
    {
     "name": "stdout",
     "output_type": "stream",
     "text": [
      "Validações: {'nome': <class 'str'>, 'idade': <class 'int'>}\n"
     ]
    }
   ],
   "source": [
    "class ValidadorMeta(type):\n",
    "    def __new__(cls, nome, bases, dct: dict):\n",
    "        # Dicionário para armazenar as validações\n",
    "        validacoes = dct.get(\"validacoes\", {})\n",
    "        print(f\"Validações: {validacoes}\")\n",
    "        for attr, tipo in validacoes.items():\n",
    "            ## Classes são callable, como também instâncias de classe com o método __call__()\n",
    "            if not callable(tipo):\n",
    "                raise ValueError(f\"O tipo de validação para {attr} deve ser uma função.\")\n",
    "            \n",
    "            # Adiciona uma nova função de validação\n",
    "            # 'value' é o valor que é passado ao dar set_nome(\"ex\") por exemplo, ele verifica se é uma string -> 'tipo'\n",
    "                # Exemplo de como fica ao iniciar uma classe\n",
    "                    # |  set_nome(self, value, attr='nome', tipo=<class 'str'>) from __main__.ValidadorMeta.__new__.<locals>\n",
    "                    # |      # Adiciona uma nova função de validação\n",
    "                    # |      # 'value' é o valor que é passado ao dar set_nome por exemplo, ele verifica se é uma string -> 'attr'\n",
    "            # Método de verificação de tipos ao inicializar a variável\n",
    "            def valida_func(self, value, attr=attr, tipo=tipo):\n",
    "                # faz esta verificação neste if e gera o erro, retornando que o \n",
    "                if not isinstance(value, tipo):\n",
    "                    raise ValueError(f\"'{attr}' deve ser do tipo {tipo.__name__}\")\n",
    "                \n",
    "                self.__dict__[attr] = value\n",
    "\n",
    "            # Renomeia a função para evitar problemas de escopo\n",
    "            valida_func.__name__ = f\"set_{attr}\"\n",
    "\n",
    "            # Atribui a função de validação criada acima\n",
    "            dct[f\"set_{attr}\"] = valida_func\n",
    "\n",
    "        return super().__new__(cls, nome, bases, dct)\n",
    "\n",
    "teste = 1\n",
    "class Usuario(metaclass=ValidadorMeta):\n",
    "    validacoes = {\n",
    "        \"nome\": str,\n",
    "        \"idade\": int,\n",
    "        ## Gera o primeiro erro, pois não é uma função, exemplos : int, float, bool, str são uma classe\n",
    "        # \"teste\": teste\n",
    "    }\n",
    "\n",
    "    def __init__(self, nome, idade):\n",
    "        self.set_nome(nome)\n",
    "        self.set_idade(idade)\n"
   ]
  },
  {
   "cell_type": "code",
   "execution_count": 29,
   "id": "3a6eef1e",
   "metadata": {},
   "outputs": [
    {
     "name": "stdout",
     "output_type": "stream",
     "text": [
      "Nome: Alice, Idade: 30\n",
      "Help on Usuario in module __main__ object:\n",
      "\n",
      "class Usuario(builtins.object)\n",
      " |  Usuario(nome, idade)\n",
      " |\n",
      " |  Methods defined here:\n",
      " |\n",
      " |  __init__(self, nome, idade)\n",
      " |      Initialize self.  See help(type(self)) for accurate signature.\n",
      " |\n",
      " |  set_idade(self, value, attr='idade', tipo=<class 'int'>) from __main__.ValidadorMeta.__new__.<locals>\n",
      " |      # Método de verificação de tipos ao inicializar a variável\n",
      " |\n",
      " |  set_nome(self, value, attr='nome', tipo=<class 'str'>) from __main__.ValidadorMeta.__new__.<locals>\n",
      " |      # Método de verificação de tipos ao inicializar a variável\n",
      " |\n",
      " |  ----------------------------------------------------------------------\n",
      " |  Data descriptors defined here:\n",
      " |\n",
      " |  __dict__\n",
      " |      dictionary for instance variables\n",
      " |\n",
      " |  __weakref__\n",
      " |      list of weak references to the object\n",
      " |\n",
      " |  ----------------------------------------------------------------------\n",
      " |  Data and other attributes defined here:\n",
      " |\n",
      " |  validacoes = {'idade': <class 'int'>, 'nome': <class 'str'>}\n",
      "\n",
      "teste idade: teste\n"
     ]
    }
   ],
   "source": [
    "user = Usuario(\"Alice\", 30)\n",
    "print(f\"Nome: {user.nome}, Idade: {user.idade}\")\n",
    "help(user)\n",
    "\n",
    "\n",
    "# user.set_idade(\"trinta\")\n",
    "\n",
    "user.idade = \"teste\"\n",
    "print(f\"teste idade: {user.idade}\")"
   ]
  }
 ],
 "metadata": {
  "kernelspec": {
   "display_name": "Python 3",
   "language": "python",
   "name": "python3"
  },
  "language_info": {
   "codemirror_mode": {
    "name": "ipython",
    "version": 3
   },
   "file_extension": ".py",
   "mimetype": "text/x-python",
   "name": "python",
   "nbconvert_exporter": "python",
   "pygments_lexer": "ipython3",
   "version": "3.13.7"
  }
 },
 "nbformat": 4,
 "nbformat_minor": 5
}
