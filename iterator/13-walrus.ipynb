{
 "cells": [
  {
   "cell_type": "markdown",
   "id": "cc91b92a",
   "metadata": {},
   "source": [
    "## Walrus\n",
    "- Esse operador é usado para atribuições de variáveis dentro de expressões.\n",
    "- É usado com o operador :=\n",
    "- Permite que você atribua um valor a uma variável enquanto avalia a expressão.\n",
    "- Evita uma execução secundária nos comandos regex, sqrt.... tendo uma execução mais rápida"
   ]
  },
  {
   "cell_type": "code",
   "execution_count": 2,
   "id": "e46d18bf",
   "metadata": {},
   "outputs": [],
   "source": [
    "numeros = [5, 12, 3 ,18, 7, 20]\n"
   ]
  },
  {
   "cell_type": "code",
   "execution_count": 4,
   "id": "4b7a02d1",
   "metadata": {},
   "outputs": [
    {
     "name": "stdout",
     "output_type": "stream",
     "text": [
      "20\n",
      "[12, 18, 20]\n"
     ]
    }
   ],
   "source": [
    "# filtrar e armazenar valores maiores que 10\n",
    "valores_maiores_que_10 = [n for n in numeros if (maior := n) > 10]\n",
    "print(maior)\n",
    "print(valores_maiores_que_10)"
   ]
  },
  {
   "cell_type": "code",
   "execution_count": 6,
   "id": "fb0cab89",
   "metadata": {},
   "outputs": [
    {
     "name": "stdout",
     "output_type": "stream",
     "text": [
      "['Olá Mundo!', 'O tempo está bem maravilhoso', 'Isso é um teste', 'Ruby é complicado', 'Python é complicado...']\n"
     ]
    }
   ],
   "source": [
    "# Utiliza o operador para armazenar os dados em uma lista sem a criação de uma variável externa\n",
    "linhas_processadas = []\n",
    "with open(\"5_text.txt\", \"r\", encoding=\"utf-8\") as arquivo:\n",
    "    for linha in arquivo:\n",
    "        if (linha_extraida := linha.strip()):\n",
    "            linhas_processadas.append(linha_extraida)\n",
    "\n",
    "print(linhas_processadas)"
   ]
  }
 ],
 "metadata": {
  "kernelspec": {
   "display_name": "Python 3",
   "language": "python",
   "name": "python3"
  },
  "language_info": {
   "codemirror_mode": {
    "name": "ipython",
    "version": 3
   },
   "file_extension": ".py",
   "mimetype": "text/x-python",
   "name": "python",
   "nbconvert_exporter": "python",
   "pygments_lexer": "ipython3",
   "version": "3.13.7"
  }
 },
 "nbformat": 4,
 "nbformat_minor": 5
}
