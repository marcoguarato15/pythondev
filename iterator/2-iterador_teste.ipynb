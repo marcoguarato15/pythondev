{
 "cells": [
  {
   "cell_type": "code",
   "execution_count": null,
   "id": "3008dd82",
   "metadata": {},
   "outputs": [],
   "source": [
    "class StringComLetraInicial:\n",
    "    def __init__(self, strings, caractere):\n",
    "        self.strings = strings\n",
    "        self.caractere = caractere\n",
    "        self.index = 0\n",
    "\n",
    "    # Isto que define que é um iterator\n",
    "    def __iter__(self):\n",
    "        return self\n",
    "    \n",
    "    def __next__(self):\n",
    "        while self.index < len(self.strings):\n",
    "            string = self.strings[self.index]\n",
    "            self.index += 1\n",
    "            if string.startswith(self.caractere):\n",
    "                return string\n",
    "        raise StopIteration"
   ]
  },
  {
   "cell_type": "code",
   "execution_count": 8,
   "id": "de5cfe71",
   "metadata": {},
   "outputs": [
    {
     "name": "stdout",
     "output_type": "stream",
     "text": [
      "Ana\n",
      "Amanda\n",
      "Adair\n"
     ]
    }
   ],
   "source": [
    "nomes = [\"Ana\", \"Joao\", \"Amanda\", \"Adair\", \"Cleber\", \"Bruno\", \"Bela\", \"Caique\", \"Caio\", \"Zumira\"]\n",
    "letra = \"A\"\n",
    "iterator_chars = StringComLetraInicial(nomes, letra)\n",
    "\n",
    "for res in iterator_chars:\n",
    "    print(res)\n"
   ]
  }
 ],
 "metadata": {
  "kernelspec": {
   "display_name": "Python 3",
   "language": "python",
   "name": "python3"
  },
  "language_info": {
   "codemirror_mode": {
    "name": "ipython",
    "version": 3
   },
   "file_extension": ".py",
   "mimetype": "text/x-python",
   "name": "python",
   "nbconvert_exporter": "python",
   "pygments_lexer": "ipython3",
   "version": "3.13.7"
  }
 },
 "nbformat": 4,
 "nbformat_minor": 5
}
