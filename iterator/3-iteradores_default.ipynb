{
 "cells": [
  {
   "cell_type": "code",
   "execution_count": 1,
   "id": "f0f28a34",
   "metadata": {},
   "outputs": [],
   "source": [
    "import itertools"
   ]
  },
  {
   "cell_type": "code",
   "execution_count": null,
   "id": "2a7386cf",
   "metadata": {},
   "outputs": [],
   "source": [
    "# Exemplo 1 - range()\n",
    "for i in range(10):\n",
    "    print(i)"
   ]
  },
  {
   "cell_type": "code",
   "execution_count": null,
   "id": "38ef134d",
   "metadata": {},
   "outputs": [],
   "source": [
    "# Exemplo 2 - Iterar lista\n",
    "frutas = [\"Maçã\", \"Banana\", \"Laranja\", \"Abacaxi\"]\n",
    "for fruta in frutas:\n",
    "    print(fruta)"
   ]
  },
  {
   "cell_type": "code",
   "execution_count": null,
   "id": "8627704c",
   "metadata": {},
   "outputs": [],
   "source": [
    "# Exemplo 3 - Iterar um dicionário\n",
    "pessoa = {\"Nome\": \"Alice\", \"idade\": 30, \"Altura\": 1.65}\n",
    "for key, value in pessoa.items():\n",
    "    print(key, value)"
   ]
  },
  {
   "cell_type": "code",
   "execution_count": null,
   "id": "fc576d6a",
   "metadata": {},
   "outputs": [],
   "source": [
    "# Exemplo 4 - enumerate() (cria um índice para cada valor)\n",
    "for index, value in enumerate(frutas):\n",
    "    print(f\"{index}- {value}\")\n"
   ]
  },
  {
   "cell_type": "code",
   "execution_count": null,
   "id": "70e1cc66",
   "metadata": {},
   "outputs": [],
   "source": [
    "# Exemplo 5 = zip() (comprime em uma tupla de valores (a, b, c....) dependendo do menor objeto iterable)\n",
    "# Caso strict seja ativo, ele relatará um erro 'ValueError()'\n",
    "nomes = [\"Alice\", \"Bob\", \"Carlos\"] # 3º valor ignorado\n",
    "idades = [30, 20, 2, 10] # 4º valor ignorado\n",
    "alturas = [1.50, 2.10]\n",
    "teste = zip(nomes, idades,alturas)\n",
    "\n",
    "print(tuple(teste))"
   ]
  },
  {
   "cell_type": "code",
   "execution_count": null,
   "id": "6b8bf3c8",
   "metadata": {},
   "outputs": [],
   "source": [
    "# Exemplo 6 - itertools.count()\n",
    "\n",
    "for i in itertools.count(start=10, step=2):\n",
    "    if i > 20:\n",
    "        break\n",
    "    print(i)"
   ]
  }
 ],
 "metadata": {
  "kernelspec": {
   "display_name": "Python 3",
   "language": "python",
   "name": "python3"
  },
  "language_info": {
   "codemirror_mode": {
    "name": "ipython",
    "version": 3
   },
   "file_extension": ".py",
   "mimetype": "text/x-python",
   "name": "python",
   "nbconvert_exporter": "python",
   "pygments_lexer": "ipython3",
   "version": "3.13.7"
  }
 },
 "nbformat": 4,
 "nbformat_minor": 5
}
