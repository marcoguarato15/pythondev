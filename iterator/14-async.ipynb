{
 "cells": [
  {
   "cell_type": "markdown",
   "id": "d8651bf9",
   "metadata": {},
   "source": [
    "## Async\n",
    "- Permite que você escreva código que pode ser executado de forma não bloqueante\n",
    "- Facilita a execução de múltiplas operações simultâneas"
   ]
  },
  {
   "cell_type": "code",
   "execution_count": 3,
   "id": "d6a2e402",
   "metadata": {},
   "outputs": [],
   "source": [
    "import asyncio\n",
    "import aiohttp"
   ]
  },
  {
   "cell_type": "code",
   "execution_count": 15,
   "id": "a9bf64eb",
   "metadata": {},
   "outputs": [],
   "source": [
    "async def tarefa_qualquer(nome, tempo_execucao):\n",
    "    print(f\"Tarefa {nome} iniciada.\")\n",
    "    await asyncio.sleep(tempo_execucao)\n",
    "    print(f\"Tarefa {nome} Finalizada\")\n",
    "\n",
    "async def main():\n",
    "    await asyncio.gather(\n",
    "        tarefa_qualquer(\"A\", 5),\n",
    "        tarefa_qualquer(\"B\", 3)\n",
    "    )"
   ]
  },
  {
   "cell_type": "code",
   "execution_count": null,
   "id": "28300ce4",
   "metadata": {},
   "outputs": [
    {
     "data": {
      "text/plain": [
       "<Task pending name='Task-66' coro=<main() running at C:\\Users\\Usuario\\AppData\\Local\\Temp\\ipykernel_17772\\3652433492.py:6>>"
      ]
     },
     "execution_count": 23,
     "metadata": {},
     "output_type": "execute_result"
    },
    {
     "name": "stdout",
     "output_type": "stream",
     "text": [
      "Tarefa A iniciada.\n",
      "Tarefa B iniciada.\n",
      "Tarefa B Finalizada\n",
      "Tarefa A Finalizada\n"
     ]
    }
   ],
   "source": [
    "## O que isso faz:\n",
    "# asyncio.get_running_loop() tenta obter o loop atual.\n",
    "# Se não houver um loop rodando (como em scripts normais), ele lança RuntimeError, e aí é seguro usar asyncio.run().\n",
    "# Se houver um loop (como em Jupyter), o except não é acionado, e você pode usar outra abordagem.\n",
    "try: \n",
    "    asyncio.get_running_loop()\n",
    "except RuntimeError:\n",
    "    asyncio.run(main())\n",
    "\n",
    "## Esse comando agenda a execução da função principal() no loop atual, sem tentar criar um novo. \n",
    "# Ele é útil dentro de ambientes que já têm um loop rodando, como Jupyter.\n",
    "# Mas atenção: ensure_future() não bloqueia até a função terminar. Ele apenas agenda. Para ver o resultado, você precisa aguardar ou usar await.\n",
    "asyncio.ensure_future(main())"
   ]
  },
  {
   "cell_type": "code",
   "execution_count": null,
   "id": "c53c2439",
   "metadata": {},
   "outputs": [
    {
     "data": {
      "text/plain": [
       "<Task pending name='Task-82' coro=<principal() running at C:\\Users\\Usuario\\AppData\\Local\\Temp\\ipykernel_17772\\907711433.py:7>>"
      ]
     },
     "execution_count": 25,
     "metadata": {},
     "output_type": "execute_result"
    },
    {
     "name": "stdout",
     "output_type": "stream",
     "text": [
      "{'id': 1, 'name': 'Leanne Graham', 'username': 'Bret', 'email': 'Sincere@april.biz', 'address': {'street': 'Kulas Light', 'suite': 'Apt. 556', 'city': 'Gwenborough', 'zipcode': '92998-3874', 'geo': {'lat': '-37.3159', 'lng': '81.1496'}}, 'phone': '1-770-736-8031 x56442', 'website': 'hildegard.org', 'company': {'name': 'Romaguera-Crona', 'catchPhrase': 'Multi-layered client-server neural-net', 'bs': 'harness real-time e-markets'}}\n",
      "{'id': 2, 'name': 'Ervin Howell', 'username': 'Antonette', 'email': 'Shanna@melissa.tv', 'address': {'street': 'Victor Plains', 'suite': 'Suite 879', 'city': 'Wisokyburgh', 'zipcode': '90566-7771', 'geo': {'lat': '-43.9509', 'lng': '-34.4618'}}, 'phone': '010-692-6593 x09125', 'website': 'anastasia.net', 'company': {'name': 'Deckow-Crist', 'catchPhrase': 'Proactive didactic contingency', 'bs': 'synergize scalable supply-chains'}}\n",
      "{'id': 3, 'name': 'Clementine Bauch', 'username': 'Samantha', 'email': 'Nathan@yesenia.net', 'address': {'street': 'Douglas Extension', 'suite': 'Suite 847', 'city': 'McKenziehaven', 'zipcode': '59590-4157', 'geo': {'lat': '-68.6102', 'lng': '-47.0653'}}, 'phone': '1-463-123-4447', 'website': 'ramiro.info', 'company': {'name': 'Romaguera-Jacobson', 'catchPhrase': 'Face to face bifurcated interface', 'bs': 'e-enable strategic applications'}}\n",
      "{'id': 4, 'name': 'Patricia Lebsack', 'username': 'Karianne', 'email': 'Julianne.OConner@kory.org', 'address': {'street': 'Hoeger Mall', 'suite': 'Apt. 692', 'city': 'South Elvis', 'zipcode': '53919-4257', 'geo': {'lat': '29.4572', 'lng': '-164.2990'}}, 'phone': '493-170-9623 x156', 'website': 'kale.biz', 'company': {'name': 'Robel-Corkery', 'catchPhrase': 'Multi-tiered zero tolerance productivity', 'bs': 'transition cutting-edge web services'}}\n",
      "{'id': 5, 'name': 'Chelsey Dietrich', 'username': 'Kamren', 'email': 'Lucio_Hettinger@annie.ca', 'address': {'street': 'Skiles Walks', 'suite': 'Suite 351', 'city': 'Roscoeview', 'zipcode': '33263', 'geo': {'lat': '-31.8129', 'lng': '62.5342'}}, 'phone': '(254)954-1289', 'website': 'demarco.info', 'company': {'name': 'Keebler LLC', 'catchPhrase': 'User-centric fault-tolerant solution', 'bs': 'revolutionize end-to-end systems'}}\n"
     ]
    }
   ],
   "source": [
    "async def buscar_usuario(session, usuario_id):\n",
    "    async with session.get(\n",
    "        f\"https://jsonplaceholder.typicode.com/users/{usuario_id}\"\n",
    "    ) as resposta:\n",
    "        return await resposta.json()\n",
    "    \n",
    "async def principal():\n",
    "    async with aiohttp.ClientSession() as session:\n",
    "        usuario_ids = [1, 2, 3, 4, 5]\n",
    "        tarefas = [buscar_usuario(session, uid) for uid in usuario_ids]\n",
    "\n",
    "        # Aguarda a conclusão de todas as tarefas\n",
    "        usuarios = await asyncio.gather(*tarefas) # Pega todos os dados de tarefas\n",
    "        for usuario in usuarios:\n",
    "            print(usuario)\n",
    "\n",
    "## O que isso faz:\n",
    "# asyncio.get_running_loop() tenta obter o loop atual.\n",
    "# Se não houver um loop rodando (como em scripts normais), ele lança RuntimeError, e aí é seguro usar asyncio.run().\n",
    "# Se houver um loop (como em Jupyter), o except não é acionado, e você pode usar outra abordagem.\n",
    "try: \n",
    "    asyncio.get_running_loop()\n",
    "except RuntimeError:\n",
    "    asyncio.run(principal())\n",
    "\n",
    "## Esse comando agenda a execução da função principal() no loop atual, sem tentar criar um novo. \n",
    "# Ele é útil dentro de ambientes que já têm um loop rodando, como Jupyter.\n",
    "# Mas atenção: ensure_future() não bloqueia até a função terminar. Ele apenas agenda. Para ver o resultado, você precisa aguardar ou usar await.\n",
    "asyncio.ensure_future(principal())"
   ]
  }
 ],
 "metadata": {
  "kernelspec": {
   "display_name": "Python 3",
   "language": "python",
   "name": "python3"
  },
  "language_info": {
   "codemirror_mode": {
    "name": "ipython",
    "version": 3
   },
   "file_extension": ".py",
   "mimetype": "text/x-python",
   "name": "python",
   "nbconvert_exporter": "python",
   "pygments_lexer": "ipython3",
   "version": "3.13.7"
  }
 },
 "nbformat": 4,
 "nbformat_minor": 5
}
