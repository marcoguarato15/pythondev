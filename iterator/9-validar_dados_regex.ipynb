{
 "cells": [
  {
   "cell_type": "code",
   "execution_count": 1,
   "id": "9f70153c",
   "metadata": {},
   "outputs": [],
   "source": [
    "import re"
   ]
  },
  {
   "cell_type": "code",
   "execution_count": 13,
   "id": "22c74f10",
   "metadata": {},
   "outputs": [],
   "source": [
    "def validar_contatos(contatos):\n",
    "    padrao_nome = r\"Nome:\\s*([A-Z][a-z]+(?:\\s[A-Z][a-z]+)?)\"\n",
    "    padrao_email = r\"Email:\\s*([a-zA-z0-9._%+-]+@[a-zA-z0-9.-]+\\.[a-zA-Z]{2,})\"\n",
    "    padrao_telefone = r\"Telefone:\\s*(\\(\\d{2}\\)\\s\\d{5}-\\d{4}|\\d{5}-\\d{4})\"\n",
    "\n",
    "    for contato in contatos:\n",
    "        nome_match = re.search(padrao_nome,contato)\n",
    "        email_match = re.search(padrao_email,contato)\n",
    "        telefone_match = re.search(padrao_telefone,contato)\n",
    "\n",
    "        # Verifica quais campos retornam matches e quais retornam None\n",
    "        # print (nome_match, email_match, telefone_match)\n",
    "\n",
    "        if nome_match and email_match and telefone_match:\n",
    "            nome = nome_match.group(1)\n",
    "            email = email_match.group(1)\n",
    "            telefone = telefone_match.group(1)\n",
    "            print(f\"Contato válido: Nome: {nome}, E-mail: {email}, Telefone: {telefone}\")\n",
    "        \n",
    "        else:\n",
    "            print(f\"Contato inválido: {contato}\")"
   ]
  },
  {
   "cell_type": "code",
   "execution_count": 14,
   "id": "86795406",
   "metadata": {},
   "outputs": [
    {
     "name": "stdout",
     "output_type": "stream",
     "text": [
      "Contato válido: Nome: Alice Silva, E-mail: alice.silva@example.com, Telefone: (11) 97514-4512\n",
      "Contato inválido: Nome: Bob Santos, Email: bob.santos@example, Telefone: (11) 7514-4512\n",
      "Contato inválido: Nome: Carlos souza, Email: carlos.souza@example.com, Telefone: 34 97514-4512\n",
      "Contato válido: Nome: Maria Oliveira, E-mail: maria.oliveira@example.com, Telefone: (11) 97514-4512\n"
     ]
    }
   ],
   "source": [
    "contatos_exemplo = [\n",
    "    \"Nome: Alice Silva, Email: alice.silva@example.com, Telefone: (11) 97514-4512\",\n",
    "    \"Nome: Bob Santos, Email: bob.santos@example, Telefone: (11) 7514-4512\",\n",
    "    \"Nome: Carlos souza, Email: carlos.souza@example.com, Telefone: 34 97514-4512\",\n",
    "    \"Nome: Maria Oliveira, Email: maria.oliveira@example.com, Telefone: (11) 97514-4512\",\n",
    "    \n",
    "]\n",
    "\n",
    "validar_contatos(contatos_exemplo)"
   ]
  }
 ],
 "metadata": {
  "kernelspec": {
   "display_name": "Python 3",
   "language": "python",
   "name": "python3"
  },
  "language_info": {
   "codemirror_mode": {
    "name": "ipython",
    "version": 3
   },
   "file_extension": ".py",
   "mimetype": "text/x-python",
   "name": "python",
   "nbconvert_exporter": "python",
   "pygments_lexer": "ipython3",
   "version": "3.13.7"
  }
 },
 "nbformat": 4,
 "nbformat_minor": 5
}
