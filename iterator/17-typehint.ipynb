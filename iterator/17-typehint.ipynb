{
 "cells": [
  {
   "cell_type": "markdown",
   "id": "828dc06a",
   "metadata": {},
   "source": [
    "## Typehint\n",
    "- É uma maneira de indicar o tipo de variáveis, parâmetros e valores de retorno de funções"
   ]
  },
  {
   "cell_type": "code",
   "execution_count": null,
   "id": "96b7ed4c",
   "metadata": {},
   "outputs": [
    {
     "data": {
      "text/plain": [
       "17"
      ]
     },
     "execution_count": 1,
     "metadata": {},
     "output_type": "execute_result"
    }
   ],
   "source": [
    "def soma(a: int, b: int) -> int:\n",
    "    return a + b\n",
    "\n",
    "## Ainda deixa passar outros parâmetros como string para concatenar\n",
    "soma(8, 9)"
   ]
  },
  {
   "cell_type": "code",
   "execution_count": 2,
   "id": "a56cd10e",
   "metadata": {},
   "outputs": [],
   "source": [
    "from typing import List"
   ]
  },
  {
   "cell_type": "code",
   "execution_count": 4,
   "id": "689e100b",
   "metadata": {},
   "outputs": [],
   "source": [
    "class Estudante:\n",
    "    def __init__(self, nome: str, notas: List[float]) -> None:\n",
    "        self.nome = nome\n",
    "        self.notas = notas\n",
    "\n",
    "    def media(self) -> float:\n",
    "        return sum(self.notas) / len(self.notas)"
   ]
  },
  {
   "cell_type": "code",
   "execution_count": 5,
   "id": "c3e0f364",
   "metadata": {},
   "outputs": [
    {
     "name": "stdout",
     "output_type": "stream",
     "text": [
      "['Alice', 'Carlos']\n"
     ]
    }
   ],
   "source": [
    "def alunos_acima_media(alunos: List[Estudante], media_minima: float) -> List[str]:\n",
    "    return [aluno.nome for aluno in alunos if aluno.media() >= media_minima]\n",
    "\n",
    "alunos = [\n",
    "    Estudante(\"Alice\", [7.5, 8.5, 9.0]),\n",
    "    Estudante(\"Bob\", [6.5, 5.5, 7.0]),\n",
    "    Estudante(\"Carlos\", [8.5, 9.5, 10.0])\n",
    "]\n",
    "\n",
    "resultados = alunos_acima_media(alunos, 8.0)\n",
    "print(resultados)"
   ]
  }
 ],
 "metadata": {
  "kernelspec": {
   "display_name": "Python 3",
   "language": "python",
   "name": "python3"
  },
  "language_info": {
   "codemirror_mode": {
    "name": "ipython",
    "version": 3
   },
   "file_extension": ".py",
   "mimetype": "text/x-python",
   "name": "python",
   "nbconvert_exporter": "python",
   "pygments_lexer": "ipython3",
   "version": "3.13.7"
  }
 },
 "nbformat": 4,
 "nbformat_minor": 5
}
