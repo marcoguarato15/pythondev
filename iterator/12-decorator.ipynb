{
 "cells": [
  {
   "cell_type": "markdown",
   "id": "ec735d80",
   "metadata": {},
   "source": [
    "## Decorator\n",
    "- Modificam ou estendem o comportamento de funções existentes de forma reutilizável\n",
    "- Adicionam funcionalidades a funções existentes sem modificar seu código diretamente"
   ]
  },
  {
   "cell_type": "code",
   "execution_count": 33,
   "id": "a3f201c6",
   "metadata": {},
   "outputs": [
    {
     "name": "stdout",
     "output_type": "stream",
     "text": [
      "Antes da função!\n",
      "Meio da função\n",
      "Depois da função\n",
      "['TESTE', 'DE', 'UPPER']\n",
      "['TESTE', 'DE', 'SPLIT', 'TESTE']\n"
     ]
    }
   ],
   "source": [
    "import importlib\n",
    "import decorators_12\n",
    "importlib.reload(decorators_12)\n",
    "\n",
    "from decorators_12 import my_decorator, to_upper_decorator, split_string_decorator\n",
    "\n",
    "@my_decorator\n",
    "def text():\n",
    "    print(\"Meio da função\")\n",
    "\n",
    "text()\n",
    "\n",
    "# não posso colocar o split primeiro pois ele retorna uma lista e listas não executam o método upper apenas strings\n",
    "\n",
    "@split_string_decorator\n",
    "@to_upper_decorator\n",
    "def text1():\n",
    "    return \"teste de upper\"\n",
    "\n",
    "print(text1())\n",
    "\n",
    "@split_string_decorator\n",
    "@to_upper_decorator\n",
    "def text2():\n",
    "    return \"teste de split teste\"\n",
    "\n",
    "print(text2())"
   ]
  }
 ],
 "metadata": {
  "kernelspec": {
   "display_name": "Python 3",
   "language": "python",
   "name": "python3"
  },
  "language_info": {
   "codemirror_mode": {
    "name": "ipython",
    "version": 3
   },
   "file_extension": ".py",
   "mimetype": "text/x-python",
   "name": "python",
   "nbconvert_exporter": "python",
   "pygments_lexer": "ipython3",
   "version": "3.13.7"
  }
 },
 "nbformat": 4,
 "nbformat_minor": 5
}
