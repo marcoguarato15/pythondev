{
 "cells": [
  {
   "cell_type": "code",
   "execution_count": null,
   "id": "42869897",
   "metadata": {},
   "outputs": [],
   "source": [
    "def num_linha_igual_numero(arquivo, numero):\n",
    "    with open(arquivo, 'rt', encoding='utf-8') as file:\n",
    "        for linha in file:                   # itera os valores das linhas que são passados como uma tupla quebrados pela quebra de linha '\\n'\n",
    "            if len(linha.split()) == numero: # faz com que as linhas se tornem listas de palavras, excluindo os espaços (padrão default do split)\n",
    "                yield linha.strip()          # recorta a linha"
   ]
  },
  {
   "cell_type": "code",
   "execution_count": 23,
   "id": "1957ec3e",
   "metadata": {},
   "outputs": [
    {
     "name": "stdout",
     "output_type": "stream",
     "text": [
      "('Ruby é complicado', 'Python é complicado...')\n",
      "Ruby é complicado\n",
      "Python é complicado...\n"
     ]
    }
   ],
   "source": [
    "arquivo = '5_text.txt'\n",
    "numero = 3\n",
    "print(tuple(num_linha_igual_numero(arquivo, numero))) # pode ser convertido em tuplas\n",
    "for p in num_linha_igual_numero(arquivo, 3):          # pode ser iterado\n",
    "    print(p)"
   ]
  }
 ],
 "metadata": {
  "kernelspec": {
   "display_name": "Python 3",
   "language": "python",
   "name": "python3"
  },
  "language_info": {
   "codemirror_mode": {
    "name": "ipython",
    "version": 3
   },
   "file_extension": ".py",
   "mimetype": "text/x-python",
   "name": "python",
   "nbconvert_exporter": "python",
   "pygments_lexer": "ipython3",
   "version": "3.13.7"
  }
 },
 "nbformat": 4,
 "nbformat_minor": 5
}
