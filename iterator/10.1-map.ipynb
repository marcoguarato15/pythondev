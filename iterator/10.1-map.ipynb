{
 "cells": [
  {
   "cell_type": "markdown",
   "id": "caf0b445",
   "metadata": {},
   "source": [
    "## MAP\n",
    "- Função que aplica uma função a todos os itens de um iterável(lista, set, tuple...)\n",
    "- É uma maneira eficiente e consisa de transformar dados sem alteração do valor original"
   ]
  },
  {
   "cell_type": "code",
   "execution_count": 18,
   "id": "1b0b7152",
   "metadata": {},
   "outputs": [],
   "source": [
    "def quadrados(parametro):\n",
    "    return parametro ** 2\n",
    "\n",
    "def celcius_para_farenheit(celcius):\n",
    "    return (celcius * 9/5) + 32\n",
    "\n",
    "def normalizar_nome(nome):\n",
    "    return nome.strip().lower()"
   ]
  },
  {
   "cell_type": "code",
   "execution_count": 5,
   "id": "c55ba4cb",
   "metadata": {},
   "outputs": [
    {
     "name": "stdout",
     "output_type": "stream",
     "text": [
      "result: [1, 4, 9, 16, 25], lista_numerica: [1, 2, 3, 4, 5]\n"
     ]
    }
   ],
   "source": [
    "lista_numerica = [1, 2, 3, 4, 5]\n",
    "result = map(quadrados, lista_numerica)\n",
    "print(f\"result: {list(result)}, lista_numerica: {lista_numerica}\")"
   ]
  },
  {
   "cell_type": "code",
   "execution_count": 11,
   "id": "6eb65e56",
   "metadata": {},
   "outputs": [
    {
     "name": "stdout",
     "output_type": "stream",
     "text": [
      "Celcius: [0, 20, 37, 100]\n",
      "Farenheit: (32.0, 68.0, 98.6, 212.0)\n"
     ]
    }
   ],
   "source": [
    "lista_de_celcius = [0, 20, 37, 100]\n",
    "result = map(celcius_para_farenheit, lista_de_celcius)\n",
    "print(f\"Celcius: {lista_de_celcius}\\nFarenheit: {tuple(result)}\")"
   ]
  },
  {
   "cell_type": "code",
   "execution_count": null,
   "id": "220a1a8d",
   "metadata": {},
   "outputs": [
    {
     "name": "stdout",
     "output_type": "stream",
     "text": [
      "Antes de normalizar: ['  Ana ', 'João  ', 'MARCELO ', 'pedro', ' LuCaS']\n",
      "Depois de normalizar: ['ana', 'joão', 'marcelo', 'pedro', 'lucas']\n"
     ]
    }
   ],
   "source": [
    "lista_de_nomes = [\"  Ana \", \"João  \", \"MARCELO \",\"pedro\", \" LuCaS\".strip() ]\n",
    "nomes_normalizados = map(normalizar_nome, lista_de_nomes)\n",
    "print(f\"Antes de normalizar: {lista_de_nomes}\\nDepois de normalizar: {list(nomes_normalizados)}\")"
   ]
  }
 ],
 "metadata": {
  "kernelspec": {
   "display_name": "Python 3",
   "language": "python",
   "name": "python3"
  },
  "language_info": {
   "codemirror_mode": {
    "name": "ipython",
    "version": 3
   },
   "file_extension": ".py",
   "mimetype": "text/x-python",
   "name": "python",
   "nbconvert_exporter": "python",
   "pygments_lexer": "ipython3",
   "version": "3.13.7"
  }
 },
 "nbformat": 4,
 "nbformat_minor": 5
}
