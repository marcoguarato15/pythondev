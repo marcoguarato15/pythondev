{
 "cells": [
  {
   "cell_type": "markdown",
   "id": "5c59ef7d",
   "metadata": {},
   "source": [
    "## Programação funcional\n",
    "- Trata a computação como avaliação de funções matemáticas e evita dados mutáveis"
   ]
  },
  {
   "cell_type": "code",
   "execution_count": null,
   "id": "c6a20201",
   "metadata": {},
   "outputs": [],
   "source": [
    "# Função de alta ordem (função que recebe outra função como argumento)\n",
    "# map e filter são exemplos deste tipo de função\n",
    "def quadrado(x):\n",
    "    return x ** 2\n",
    "\n",
    "def aplicar_funcao(funcao, lista):\n",
    "    return [funcao(x) for x in lista]\n",
    "\n",
    "numeros = [1, 2, 3, 4, 5]\n",
    "resultado = aplicar_funcao(quadrado, numeros)\n",
    "print(resultado)\n"
   ]
  },
  {
   "cell_type": "code",
   "execution_count": 6,
   "id": "987bc801",
   "metadata": {},
   "outputs": [
    {
     "name": "stdout",
     "output_type": "stream",
     "text": [
      "['Alice', 'Carlos', 'Marco', 'Diana']\n",
      "[{'nome': 'Alice', 'idade': 30}, {'nome': 'Diana', 'idade': 35}]\n",
      "27.25\n"
     ]
    }
   ],
   "source": [
    "usuarios = [\n",
    "    {\"nome\": \"Alice\", \"idade\": 30},\n",
    "    {\"nome\": \"Carlos\", \"idade\": 20},\n",
    "    {\"nome\": \"Marco\", \"idade\": 24},\n",
    "    {\"nome\": \"Diana\", \"idade\": 35}\n",
    "]\n",
    "\n",
    "def extrair_nomes(usuarios):\n",
    "    return list(map(lambda x: x['nome'], usuarios))\n",
    "\n",
    "def filtrar_idade_maior_que(usuarios, idade):\n",
    "    return list(filter(lambda x: x['idade'] > idade, usuarios))\n",
    "\n",
    "def calcular_media_idades(usuarios):\n",
    "    if not usuarios:\n",
    "        return 0\n",
    "    else:\n",
    "        soma = sum(map(lambda x: x['idade'], usuarios))\n",
    "        return soma / len(usuarios)\n",
    "\n",
    "extrai_nomes = extrair_nomes(usuarios)\n",
    "print(extrai_nomes)\n",
    "idade_maior_que_28 = filtrar_idade_maior_que(usuarios, 28)\n",
    "print(idade_maior_que_28)\n",
    "media_idades = calcular_media_idades(usuarios)\n",
    "print(media_idades)\n"
   ]
  },
  {
   "cell_type": "code",
   "execution_count": 7,
   "id": "3f722bf9",
   "metadata": {},
   "outputs": [],
   "source": [
    "from functools import lru_cache"
   ]
  },
  {
   "cell_type": "code",
   "execution_count": 12,
   "id": "d5a086c0",
   "metadata": {},
   "outputs": [
    {
     "name": "stdout",
     "output_type": "stream",
     "text": [
      "Fibonnaci(0) = 0\n",
      "Fibonnaci(1) = 1\n",
      "Fibonnaci(2) = 1\n",
      "Fibonnaci(3) = 2\n",
      "Fibonnaci(4) = 3\n",
      "Fibonnaci(5) = 5\n",
      "Fibonnaci(6) = 8\n",
      "Fibonnaci(7) = 13\n",
      "Fibonnaci(8) = 21\n",
      "Fibonnaci(9) = 34\n"
     ]
    }
   ],
   "source": [
    "@lru_cache(maxsize=None)\n",
    "def fibonacci(n):\n",
    "    # 3. Corrige os casos base\n",
    "    if n <= 1:\n",
    "        return n\n",
    "    # 4. Mantém a lógica recursiva\n",
    "    return fibonacci(n-1) + fibonacci(n-2)\n",
    "\n",
    "for i in range(10):\n",
    "    print(f\"Fibonnaci({i}) = {fibonacci(i)}\")"
   ]
  }
 ],
 "metadata": {
  "kernelspec": {
   "display_name": "Python 3",
   "language": "python",
   "name": "python3"
  },
  "language_info": {
   "codemirror_mode": {
    "name": "ipython",
    "version": 3
   },
   "file_extension": ".py",
   "mimetype": "text/x-python",
   "name": "python",
   "nbconvert_exporter": "python",
   "pygments_lexer": "ipython3",
   "version": "3.13.7"
  }
 },
 "nbformat": 4,
 "nbformat_minor": 5
}
