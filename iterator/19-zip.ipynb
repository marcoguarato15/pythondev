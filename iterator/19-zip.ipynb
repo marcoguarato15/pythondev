{
 "cells": [
  {
   "cell_type": "markdown",
   "id": "70916f16",
   "metadata": {},
   "source": [
    "## Zip\n",
    "- É combinar múltiplos iteráveis (lista ou tupla) em um único iterável"
   ]
  },
  {
   "cell_type": "code",
   "execution_count": null,
   "id": "39b5c67f",
   "metadata": {},
   "outputs": [
    {
     "name": "stdout",
     "output_type": "stream",
     "text": [
      "Nome: Alice, Idade: 25\n",
      "Nome: Bob, Idade: 30\n",
      "Nome: Charlie, Idade: 35\n",
      "{'Alice': 25, 'Bob': 30, 'Charlie': 35}\n",
      "{'Charlie': 35}\n"
     ]
    }
   ],
   "source": [
    "nomes = [\"Alice\", \"Bob\", \"Charlie\"]\n",
    "idades = [25, 30, 35]\n",
    "\n",
    "for nome, idade in zip(nomes, idades):\n",
    "    print(f\"Nome: {nome}, Idade: {idade}\")\n",
    "\n",
    "pessoas_dict = dict(zip(nomes,idades))\n",
    "print(pessoas_dict)\n",
    "\n",
    "# Criação de um dicionário com list_comprehension\n",
    "idade_maior_trinta = {nome:idade for nome, idade in pessoas_dict.items() if idade > 30}\n",
    "print(idade_maior_trinta)"
   ]
  }
 ],
 "metadata": {
  "kernelspec": {
   "display_name": "Python 3",
   "language": "python",
   "name": "python3"
  },
  "language_info": {
   "codemirror_mode": {
    "name": "ipython",
    "version": 3
   },
   "file_extension": ".py",
   "mimetype": "text/x-python",
   "name": "python",
   "nbconvert_exporter": "python",
   "pygments_lexer": "ipython3",
   "version": "3.13.7"
  }
 },
 "nbformat": 4,
 "nbformat_minor": 5
}
