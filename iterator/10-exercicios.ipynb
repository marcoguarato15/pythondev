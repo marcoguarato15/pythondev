{
 "cells": [
  {
   "cell_type": "code",
   "execution_count": 1,
   "id": "4754024c",
   "metadata": {},
   "outputs": [],
   "source": [
    "import re"
   ]
  },
  {
   "cell_type": "code",
   "execution_count": 57,
   "id": "88a3704e",
   "metadata": {},
   "outputs": [],
   "source": [
    "# Exercício 1\n",
    "def extrair_urls(texto):\n",
    "    padrao = r\"https?://[a-zA-Z0-9.-]+\\.[a-zA-Z]{2,}\"\n",
    "    urls = re.findall(padrao, texto)\n",
    "\n",
    "    if urls:\n",
    "        return urls\n",
    "    else:\n",
    "        return False\n",
    "    \n",
    "# Exercício 2\n",
    "def validar_senha(senha):\n",
    "    padrao_senha = r\"^(?=.*[a-z])(?=.*[A-Z])(?=.*\\d)[A-Za-z\\d]{8,}\"\n",
    "    return bool(re.match(padrao_senha, senha))\n",
    "\n",
    "# Exercício 3 \n",
    "def contar_palavras(texto):\n",
    "    padrao_contagem = r\"\\b\\w+\\b\"\n",
    "    palavras = re.findall(padrao_contagem, texto)\n",
    "    return len(palavras)\n"
   ]
  },
  {
   "cell_type": "code",
   "execution_count": null,
   "id": "859376da",
   "metadata": {},
   "outputs": [
    {
     "name": "stdout",
     "output_type": "stream",
     "text": [
      "['http://teste.org', 'https://validando-urls.com']\n"
     ]
    }
   ],
   "source": [
    "# Exercício 1\n",
    "texto_exemplo = \"Este é apenas um texto de exemplo contendo duas urls, a primeir é http://teste.org e a segunda é https://validando-urls.com, a próxima é uma urls inválida para testes http://google.t\"\n",
    "\n",
    "urls = extrair_urls(texto_exemplo)\n",
    "print(urls)"
   ]
  },
  {
   "cell_type": "code",
   "execution_count": null,
   "id": "3a0a264f",
   "metadata": {},
   "outputs": [
    {
     "name": "stdout",
     "output_type": "stream",
     "text": [
      "A senha Senha123! é valida?: True\n",
      "A senha senha123 é valida?: False\n",
      "A senha SENHA123 é valida?: False\n",
      "A senha Senha! é valida?: False\n",
      "A senha Valida1 é valida?: False\n",
      "A senha 123Senha é valida?: True\n"
     ]
    }
   ],
   "source": [
    "# Exercício 2\n",
    "senhas = [\"Senha123!\", \"senha123\", \"SENHA123\", \"Senha!\", \"Valida1\", \"123Senha\"]\n",
    "for s in senhas:\n",
    "    print(f\"A senha {s} é valida?: {validar_senha(s)}\")"
   ]
  },
  {
   "cell_type": "code",
   "execution_count": 59,
   "id": "1455f0ca",
   "metadata": {},
   "outputs": [
    {
     "name": "stdout",
     "output_type": "stream",
     "text": [
      "13\n"
     ]
    }
   ],
   "source": [
    "# Exercício 3\n",
    "texto = \"\"\"\n",
    "    Este texto é apenas um teste para contar palavras e números contendo 13 ()\n",
    "\"\"\"\n",
    "numero_palavras = contar_palavras(texto)\n",
    "print(numero_palavras)"
   ]
  }
 ],
 "metadata": {
  "kernelspec": {
   "display_name": "Python 3",
   "language": "python",
   "name": "python3"
  },
  "language_info": {
   "codemirror_mode": {
    "name": "ipython",
    "version": 3
   },
   "file_extension": ".py",
   "mimetype": "text/x-python",
   "name": "python",
   "nbconvert_exporter": "python",
   "pygments_lexer": "ipython3",
   "version": "3.13.7"
  }
 },
 "nbformat": 4,
 "nbformat_minor": 5
}
