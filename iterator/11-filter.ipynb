{
 "cells": [
  {
   "cell_type": "markdown",
   "id": "4c30a731",
   "metadata": {},
   "source": [
    "## Filter\n",
    "- É usada para filtrar elementos de um iterável com base em uma função que pode ser True ou False\n",
    "- O objetivo é permitir apenas os elementos que satisfazem a condição"
   ]
  },
  {
   "cell_type": "code",
   "execution_count": 33,
   "id": "12039d49",
   "metadata": {},
   "outputs": [],
   "source": [
    "def e_par(x):\n",
    "    return x % 2 == 0\n",
    "\n",
    "def produto_em_estoque(produto):\n",
    "    print(produto)\n",
    "    if produto[\"qnt_estoque\"] == 0:\n",
    "        return False\n",
    "    else:\n",
    "        return True"
   ]
  },
  {
   "cell_type": "code",
   "execution_count": 2,
   "id": "13d413bf",
   "metadata": {},
   "outputs": [
    {
     "name": "stdout",
     "output_type": "stream",
     "text": [
      "Lista completa: [1, 2, 3, 4, 5, 6]\n",
      "Números pares da lista: [2, 4, 6]\n"
     ]
    }
   ],
   "source": [
    "numeros = [1, 2, 3, 4, 5, 6]\n",
    "pares = filter(e_par, numeros)\n",
    "print(f\"Lista completa: {numeros}\\nNúmeros pares da lista: {list(pares)}\")"
   ]
  },
  {
   "cell_type": "code",
   "execution_count": 34,
   "id": "e9ed8deb",
   "metadata": {},
   "outputs": [
    {
     "name": "stdout",
     "output_type": "stream",
     "text": [
      "{'nome': 'Produto A', 'preco': 10.0, 'qnt_estoque': 0}\n",
      "{'nome': 'Produto B', 'preco': 20.0, 'qnt_estoque': 2}\n",
      "{'nome': 'Produto C', 'preco': 30.0, 'qnt_estoque': 12}\n",
      "{'nome': 'Produto D', 'preco': 40.0, 'qnt_estoque': 0}\n",
      "Produtos: [{'nome': 'Produto A', 'preco': 10.0, 'qnt_estoque': 0}, {'nome': 'Produto B', 'preco': 20.0, 'qnt_estoque': 2}, {'nome': 'Produto C', 'preco': 30.0, 'qnt_estoque': 12}, {'nome': 'Produto D', 'preco': 40.0, 'qnt_estoque': 0}]\n",
      "Em estoque:[{'nome': 'Produto B', 'preco': 20.0, 'qnt_estoque': 2}, {'nome': 'Produto C', 'preco': 30.0, 'qnt_estoque': 12}]\n"
     ]
    }
   ],
   "source": [
    "produtos = [\n",
    "    {\"nome\": \"Produto A\", \"preco\": 10.0, \"qnt_estoque\" : 0},\n",
    "    {\"nome\": \"Produto B\", \"preco\": 20.0, \"qnt_estoque\" : 2},\n",
    "    {\"nome\": \"Produto C\", \"preco\": 30.0, \"qnt_estoque\" : 12},\n",
    "    {\"nome\": \"Produto D\", \"preco\": 40.0, \"qnt_estoque\" : 0}\n",
    "]\n",
    "\n",
    "em_estoque = filter(produto_em_estoque, produtos)\n",
    "print(f\"Produtos: {produtos}\\nEm estoque:{list(em_estoque)}\")"
   ]
  }
 ],
 "metadata": {
  "kernelspec": {
   "display_name": "Python 3",
   "language": "python",
   "name": "python3"
  },
  "language_info": {
   "codemirror_mode": {
    "name": "ipython",
    "version": 3
   },
   "file_extension": ".py",
   "mimetype": "text/x-python",
   "name": "python",
   "nbconvert_exporter": "python",
   "pygments_lexer": "ipython3",
   "version": "3.13.7"
  }
 },
 "nbformat": 4,
 "nbformat_minor": 5
}
