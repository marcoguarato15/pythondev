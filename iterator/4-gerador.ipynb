{
 "cells": [
  {
   "cell_type": "markdown",
   "id": "846d1268",
   "metadata": {},
   "source": [
    "Yield\n",
    "- É uma palavra chave para criar um gerador, ao usar em uma função ela se torna um gerador especial que não ocupa todo espaço de uma vez na memória, ela vai criando os próximos valores a medida em que é chamada com o next()\n",
    "- return: ao ser usada ele encerra a função, e chamadas subsequentes executam do 0 a execução\n",
    "- yield: ao ser usada ela pausa os valores  (local variables, instruction pointer, etc.) para serem utilizados novamente mais para frente"
   ]
  },
  {
   "cell_type": "code",
   "execution_count": 1,
   "id": "fed8ae44",
   "metadata": {},
   "outputs": [],
   "source": [
    "def numeros_impares(n):\n",
    "    for i in range(1, n, 2):\n",
    "        yield i"
   ]
  },
  {
   "cell_type": "code",
   "execution_count": null,
   "id": "9820877e",
   "metadata": {},
   "outputs": [],
   "source": [
    "print(numeros_impares(10))\n",
    "print(tuple(numeros_impares(10)))\n",
    "for numeros in numeros_impares(10):\n",
    "    print(numeros)"
   ]
  }
 ],
 "metadata": {
  "kernelspec": {
   "display_name": "Python 3",
   "language": "python",
   "name": "python3"
  },
  "language_info": {
   "codemirror_mode": {
    "name": "ipython",
    "version": 3
   },
   "file_extension": ".py",
   "mimetype": "text/x-python",
   "name": "python",
   "nbconvert_exporter": "python",
   "pygments_lexer": "ipython3",
   "version": "3.13.7"
  }
 },
 "nbformat": 4,
 "nbformat_minor": 5
}
